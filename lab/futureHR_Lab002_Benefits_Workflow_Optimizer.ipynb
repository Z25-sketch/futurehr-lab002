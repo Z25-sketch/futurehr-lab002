{
 "cells": [
  {
   "cell_type": "markdown",
   "id": "023e9201",
   "metadata": {},
   "source": [
    "# 🧠 futureHR Lab #002: Benefits Workflow Optimizer\n",
    "\n",
    "**Lab Type:** Project  \n",
    "**Estimated Time:** 60–120 mins  \n",
    "**Skill Level:** Intermediate"
   ]
  },
  {
   "cell_type": "code",
   "execution_count": null,
   "id": "57e30743",
   "metadata": {},
   "outputs": [],
   "source": [
    "# Let's begin by printing your name to personalize the notebook\n",
    "your_name = \"\"\n",
    "print(f\"Welcome to the lab, {your_name}!\")"
   ]
  },
  {
   "cell_type": "markdown",
   "id": "aab2c2bb",
   "metadata": {},
   "source": [
    "## 🔍 STAR Method Lab Prompt\n",
    "\n",
    "**Situation:**  \n",
    "[Define your scenario here.]\n",
    "\n",
    "**Task:**  \n",
    "[What challenge are you solving in HR?]\n",
    "\n",
    "**Action:**  \n",
    "[Which Google tools will you use? How will Gemini help?]\n",
    "\n",
    "**Expected Result:**  \n",
    "[A clear deliverable or outcome to include in your portfolio.]"
   ]
  },
  {
   "cell_type": "markdown",
   "id": "c5c89b04",
   "metadata": {},
   "source": [
    "## ✍️ Your Assignment\n",
    "\n",
    "_Use this section to complete your deliverable:_\n",
    "\n",
    "```markdown\n",
    "(Example Format)\n",
    "\n",
    "- **Workflow Type**: Benefits enrollment  \n",
    "- **Current Problem**: Manual approval delays, too many emails  \n",
    "- **Solution**: Automated routing via AppSheet or Apps Script  \n",
    "- **GCP Tools**: Google Forms, Sheets, Calendar, Gemini AI  \n",
    "- **Expected Impact**: 70% faster processing time  \n",
    "```"
   ]
  }
 ],
 "metadata": {},
 "nbformat": 4,
 "nbformat_minor": 5
}
